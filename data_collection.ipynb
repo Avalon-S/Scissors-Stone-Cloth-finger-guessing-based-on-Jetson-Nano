{
 "cells": [
  {
   "cell_type": "markdown",
   "metadata": {
    "tags": []
   },
   "source": [
    "# Real time display the data collected by the camera\n",
    "First initialize the camera to display the captured picture\n",
    "\n",
    "The input image size of the neural network is 224 * 224. For convenience, the size of the camera collection is set to 224 * 224. You can also set a larger size when collecting data, and then resize to the required size."
   ]
  },
  {
   "cell_type": "code",
   "execution_count": 1,
   "metadata": {
    "scrolled": true
   },
   "outputs": [
    {
     "data": {
      "application/vnd.jupyter.widget-view+json": {
       "model_id": "3662f7aca996417884711f89b7d24d93",
       "version_major": 2,
       "version_minor": 0
      },
      "text/plain": [
       "Image(value=b'\\xff\\xd8\\xff\\xe0\\x00\\x10JFIF\\x00\\x01\\x01\\x00\\x00\\x01\\x00\\x01\\x00\\x00\\xff\\xdb\\x00C\\x00\\x02\\x01\\x0…"
      ]
     },
     "metadata": {},
     "output_type": "display_data"
    }
   ],
   "source": [
    "# After running the following code, you can see the pictures collected by the camera in real time.\n",
    "import traitlets\n",
    "import ipywidgets\n",
    "import ipywidgets.widgets as widgets\n",
    "from IPython.display import display\n",
    "from camera import Camera\n",
    "from image import bgr8_to_jpeg\n",
    "\n",
    "camera = Camera.instance(width=224, height=224)\n",
    "\n",
    "image = widgets.Image(format='jpeg', width=224, height=224)  # this width and height doesn't necessarily have to match the camera\n",
    "\n",
    "camera_link = traitlets.dlink((camera, 'value'), (image, 'value'), transform=bgr8_to_jpeg)\n",
    "\n",
    "display(image)"
   ]
  },
  {
   "cell_type": "markdown",
   "metadata": {},
   "source": [
    "# Save the collected data"
   ]
  },
  {
   "cell_type": "code",
   "execution_count": 2,
   "metadata": {},
   "outputs": [],
   "source": [
    "# Create Dataset Folder\n",
    "import os\n",
    "CLASS = ['one', 'two', 'three']\n",
    "one = 'dataset1/one'\n",
    "two = 'dataset1/two'\n",
    "three = 'dataset1/three'\n",
    "\n",
    "try:\n",
    "    os.makedirs(one)\n",
    "    os.makedirs(two)\n",
    "    os.makedirs(three)\n",
    "\n",
    "except FileExistsError:\n",
    "    print('Directories not created becasue they already exist')"
   ]
  },
  {
   "cell_type": "code",
   "execution_count": 3,
   "metadata": {},
   "outputs": [
    {
     "data": {
      "application/vnd.jupyter.widget-view+json": {
       "model_id": "36316ea7aca44f428c41e34311317928",
       "version_major": 2,
       "version_minor": 0
      },
      "text/plain": [
       "HBox(children=(Button(button_style='success', description='Save', layout=Layout(height='64px', width='128px'),…"
      ]
     },
     "metadata": {},
     "output_type": "display_data"
    }
   ],
   "source": [
    "# ipywidget can create a UI based on Jupyter notebook to visualize and save the collected data.\n",
    "dataset_widget = ipywidgets.Dropdown(options=CLASS, description='class')\n",
    "button_layout = widgets.Layout(width='128px', height='64px')\n",
    "save_button = widgets.Button(description='Save', button_style='success', layout=button_layout)\n",
    "#blocked_button = widgets.Button(description='add blocked', button_style='danger', layout=button_layout)\n",
    "save_count = widgets.IntText(layout=button_layout, value=len(os.listdir('dataset/'+str(dataset_widget.value))))\n",
    "#blocked_count = widgets.IntText(layout=button_layout, value=len(os.listdir(blocked_dir)))\n",
    "\n",
    "display(widgets.HBox([save_button, save_count,dataset_widget]))\n",
    "\n",
    "#display(widgets.HBox([blocked_count, blocked_button]))"
   ]
  },
  {
   "cell_type": "markdown",
   "metadata": {},
   "source": [
    "Now, these buttons can do nothing. We must attach a function function to save the image for each category of button \"n_ click\"。 We will save the value of the 'Image' part (not the camera) because it is already in compressed JPEG format!</br>\n",
    "To ensure that no file names are repeated (even on different machines!), you can use the 'uuid' package in Python, which defines the 'uuid1' method to generate a unique identifier. This unique identifier is generated from information such as current time and machine address."
   ]
  },
  {
   "cell_type": "code",
   "execution_count": 4,
   "metadata": {},
   "outputs": [],
   "source": [
    "from uuid import uuid1\n",
    "\n",
    "def save_snapshot(directory):\n",
    "    image_path = os.path.join(directory, str(uuid1()) + '.jpg')\n",
    "    with open(image_path, 'wb') as f:\n",
    "        f.write(image.value)\n",
    "\n",
    "def save_():\n",
    "    global save_count\n",
    "    save_snapshot('dataset1/'+str(dataset_widget.value))\n",
    "    save_count.value = len(os.listdir('dataset1/'+str(dataset_widget.value)))\n",
    "\n",
    "# attach the callbacks, use a 'lambda' function to ignore the\n",
    "# parameter that the on_click event would provide to our function\n",
    "save_button.on_click(lambda x: save_())\n",
    "#blocked_button.on_click(lambda x: save_blocked())"
   ]
  },
  {
   "cell_type": "markdown",
   "metadata": {},
   "source": [
    "Now the buttons and option bar above can save the image to the corresponding directory. You can use the directory file browser on the left of Jupyter to view these files!\n",
    "Now continue to collect some data. After selecting different classes, let the camera face the corresponding scene and save the picture with save.</br>\n",
    "Try different directions and illumination."
   ]
  },
  {
   "cell_type": "code",
   "execution_count": 5,
   "metadata": {},
   "outputs": [
    {
     "data": {
      "application/vnd.jupyter.widget-view+json": {
       "model_id": "3662f7aca996417884711f89b7d24d93",
       "version_major": 2,
       "version_minor": 0
      },
      "text/plain": [
       "Image(value=b'\\xff\\xd8\\xff\\xe0\\x00\\x10JFIF\\x00\\x01\\x01\\x00\\x00\\x01\\x00\\x01\\x00\\x00\\xff\\xdb\\x00C\\x00\\x02\\x01\\x0…"
      ]
     },
     "metadata": {},
     "output_type": "display_data"
    },
    {
     "data": {
      "application/vnd.jupyter.widget-view+json": {
       "model_id": "9cf09de95d904efdb3fa84fb5434bcbc",
       "version_major": 2,
       "version_minor": 0
      },
      "text/plain": [
       "HBox(children=(Button(button_style='success', description='Save', layout=Layout(height='64px', width='128px'),…"
      ]
     },
     "metadata": {},
     "output_type": "display_data"
    }
   ],
   "source": [
    "# After running the cell code, the image and button will be displayed, and you can start to collect data.\n",
    "display(image)\n",
    "\n",
    "display(widgets.HBox([save_button, save_count,dataset_widget]))"
   ]
  },
  {
   "cell_type": "code",
   "execution_count": 6,
   "metadata": {},
   "outputs": [],
   "source": [
    "camera_link.unlink()  # don't stream to browser (will still run camera)"
   ]
  },
  {
   "cell_type": "code",
   "execution_count": null,
   "metadata": {},
   "outputs": [],
   "source": [
    "camera_link.link()  # stream to browser (won't run camera)"
   ]
  },
  {
   "cell_type": "code",
   "execution_count": null,
   "metadata": {},
   "outputs": [],
   "source": []
  }
 ],
 "metadata": {
  "kernelspec": {
   "display_name": "Python 3 (ipykernel)",
   "language": "python",
   "name": "python3"
  },
  "language_info": {
   "codemirror_mode": {
    "name": "ipython",
    "version": 3
   },
   "file_extension": ".py",
   "mimetype": "text/x-python",
   "name": "python",
   "nbconvert_exporter": "python",
   "pygments_lexer": "ipython3",
   "version": "3.8.10"
  }
 },
 "nbformat": 4,
 "nbformat_minor": 4
}
